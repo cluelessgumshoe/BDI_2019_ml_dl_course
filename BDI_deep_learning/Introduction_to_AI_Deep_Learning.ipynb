{
  "nbformat": 4,
  "nbformat_minor": 0,
  "metadata": {
    "colab": {
      "name": "Introduction_to_AI_Deep_Learning.ipynb",
      "provenance": [],
      "collapsed_sections": []
    },
    "kernelspec": {
      "name": "python3",
      "display_name": "Python 3"
    }
  },
  "cells": [
    {
      "cell_type": "markdown",
      "metadata": {
        "id": "N0HFY-5PX8_l",
        "colab_type": "text"
      },
      "source": [
        "## Import necessary functions \n"
      ]
    },
    {
      "cell_type": "code",
      "metadata": {
        "id": "dlhFphFKpaMy",
        "colab_type": "code",
        "colab": {}
      },
      "source": [
        "# For data pre-processing\n",
        "import pandas as pd\n",
        "import numpy as np\n",
        "# For splitting data into training and test\n",
        "from sklearn.model_selection import train_test_split\n",
        "# For preparing data for model\n",
        "from sklearn.preprocessing import MinMaxScaler, StandardScaler, OneHotEncoder, LabelEncoder\n",
        "# For building layers in neural network and for embeddings\n",
        "from keras.layers import Input, Dense, Embedding, Flatten, concatenate\n",
        "# For creating model\n",
        "from keras.models import Model\n",
        "from keras import optimizers"
      ],
      "execution_count": 0,
      "outputs": []
    },
    {
      "cell_type": "markdown",
      "metadata": {
        "id": "lyfk3NDmYNr6",
        "colab_type": "text"
      },
      "source": [
        "## Read in data\n"
      ]
    },
    {
      "cell_type": "code",
      "metadata": {
        "id": "XJQBx53-pce4",
        "colab_type": "code",
        "outputId": "cd65e36d-99e1-4a68-8490-b390c17d073b",
        "colab": {
          "resources": {
            "http://localhost:8080/nbextensions/google.colab/files.js": {
              "data": "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",
              "ok": true,
              "headers": [
                [
                  "content-type",
                  "application/javascript"
                ]
              ],
              "status": 200,
              "status_text": ""
            }
          },
          "base_uri": "https://localhost:8080/",
          "height": 74
        }
      },
      "source": [
        "# Upload adult_final.csv\n",
        "from google.colab import files\n",
        "uploaded = files.upload()"
      ],
      "execution_count": 2,
      "outputs": [
        {
          "output_type": "display_data",
          "data": {
            "text/html": [
              "\n",
              "     <input type=\"file\" id=\"files-e0bc7063-ef7d-4b5a-a8bf-d90ca5e8b226\" name=\"files[]\" multiple disabled />\n",
              "     <output id=\"result-e0bc7063-ef7d-4b5a-a8bf-d90ca5e8b226\">\n",
              "      Upload widget is only available when the cell has been executed in the\n",
              "      current browser session. Please rerun this cell to enable.\n",
              "      </output>\n",
              "      <script src=\"/nbextensions/google.colab/files.js\"></script> "
            ],
            "text/plain": [
              "<IPython.core.display.HTML object>"
            ]
          },
          "metadata": {
            "tags": []
          }
        },
        {
          "output_type": "stream",
          "text": [
            "Saving adult_final.csv to adult_final.csv\n"
          ],
          "name": "stdout"
        }
      ]
    },
    {
      "cell_type": "code",
      "metadata": {
        "id": "YnP8DWDkptbn",
        "colab_type": "code",
        "colab": {}
      },
      "source": [
        "# Use pandas function read_csv to read in file and assign to dataframe (df1)\n",
        "df1 = pd.read_csv('adult_final.csv')"
      ],
      "execution_count": 0,
      "outputs": []
    },
    {
      "cell_type": "markdown",
      "metadata": {
        "id": "rNXneD4eYqAN",
        "colab_type": "text"
      },
      "source": [
        "## Examine data"
      ]
    },
    {
      "cell_type": "code",
      "metadata": {
        "id": "BPK6cCBIp2gm",
        "colab_type": "code",
        "outputId": "d4381907-9c45-4a2f-c7ca-b0b3e11e3232",
        "colab": {
          "base_uri": "https://localhost:8080/",
          "height": 224
        }
      },
      "source": [
        "# Check first 6 rows of data\n",
        "df1.head()"
      ],
      "execution_count": 62,
      "outputs": [
        {
          "output_type": "execute_result",
          "data": {
            "text/html": [
              "<div>\n",
              "<style scoped>\n",
              "    .dataframe tbody tr th:only-of-type {\n",
              "        vertical-align: middle;\n",
              "    }\n",
              "\n",
              "    .dataframe tbody tr th {\n",
              "        vertical-align: top;\n",
              "    }\n",
              "\n",
              "    .dataframe thead th {\n",
              "        text-align: right;\n",
              "    }\n",
              "</style>\n",
              "<table border=\"1\" class=\"dataframe\">\n",
              "  <thead>\n",
              "    <tr style=\"text-align: right;\">\n",
              "      <th></th>\n",
              "      <th>age</th>\n",
              "      <th>workclass</th>\n",
              "      <th>education</th>\n",
              "      <th>education_num</th>\n",
              "      <th>marital_status</th>\n",
              "      <th>occupation</th>\n",
              "      <th>relationship</th>\n",
              "      <th>race</th>\n",
              "      <th>sex</th>\n",
              "      <th>capital_gain</th>\n",
              "      <th>capital_loss</th>\n",
              "      <th>hours_per_week</th>\n",
              "      <th>native_country</th>\n",
              "      <th>income</th>\n",
              "    </tr>\n",
              "  </thead>\n",
              "  <tbody>\n",
              "    <tr>\n",
              "      <th>0</th>\n",
              "      <td>39.0</td>\n",
              "      <td>State-gov</td>\n",
              "      <td>Bachelors</td>\n",
              "      <td>13.0</td>\n",
              "      <td>Never-married</td>\n",
              "      <td>Adm-clerical</td>\n",
              "      <td>Not-in-family</td>\n",
              "      <td>White</td>\n",
              "      <td>Male</td>\n",
              "      <td>2174.0</td>\n",
              "      <td>0.0</td>\n",
              "      <td>40.0</td>\n",
              "      <td>United-States</td>\n",
              "      <td>&lt;=50K</td>\n",
              "    </tr>\n",
              "    <tr>\n",
              "      <th>1</th>\n",
              "      <td>39.0</td>\n",
              "      <td>State-gov</td>\n",
              "      <td>Bachelors</td>\n",
              "      <td>13.0</td>\n",
              "      <td>Never-married</td>\n",
              "      <td>Adm-clerical</td>\n",
              "      <td>Not-in-family</td>\n",
              "      <td>White</td>\n",
              "      <td>Male</td>\n",
              "      <td>2174.0</td>\n",
              "      <td>0.0</td>\n",
              "      <td>40.0</td>\n",
              "      <td>United-States</td>\n",
              "      <td>&lt;=50K</td>\n",
              "    </tr>\n",
              "    <tr>\n",
              "      <th>2</th>\n",
              "      <td>39.0</td>\n",
              "      <td>State-gov</td>\n",
              "      <td>Bachelors</td>\n",
              "      <td>13.0</td>\n",
              "      <td>Never-married</td>\n",
              "      <td>Adm-clerical</td>\n",
              "      <td>Not-in-family</td>\n",
              "      <td>White</td>\n",
              "      <td>Male</td>\n",
              "      <td>2174.0</td>\n",
              "      <td>0.0</td>\n",
              "      <td>40.0</td>\n",
              "      <td>United-States</td>\n",
              "      <td>&lt;=50K</td>\n",
              "    </tr>\n",
              "    <tr>\n",
              "      <th>3</th>\n",
              "      <td>39.0</td>\n",
              "      <td>State-gov</td>\n",
              "      <td>Bachelors</td>\n",
              "      <td>13.0</td>\n",
              "      <td>Never-married</td>\n",
              "      <td>Adm-clerical</td>\n",
              "      <td>Not-in-family</td>\n",
              "      <td>White</td>\n",
              "      <td>Male</td>\n",
              "      <td>2174.0</td>\n",
              "      <td>0.0</td>\n",
              "      <td>40.0</td>\n",
              "      <td>United-States</td>\n",
              "      <td>&lt;=50K</td>\n",
              "    </tr>\n",
              "    <tr>\n",
              "      <th>4</th>\n",
              "      <td>39.0</td>\n",
              "      <td>State-gov</td>\n",
              "      <td>Bachelors</td>\n",
              "      <td>13.0</td>\n",
              "      <td>Never-married</td>\n",
              "      <td>Adm-clerical</td>\n",
              "      <td>Not-in-family</td>\n",
              "      <td>White</td>\n",
              "      <td>Male</td>\n",
              "      <td>2174.0</td>\n",
              "      <td>0.0</td>\n",
              "      <td>40.0</td>\n",
              "      <td>United-States</td>\n",
              "      <td>&lt;=50K</td>\n",
              "    </tr>\n",
              "  </tbody>\n",
              "</table>\n",
              "</div>"
            ],
            "text/plain": [
              "    age   workclass   education  ...  hours_per_week  native_country  income\n",
              "0  39.0   State-gov   Bachelors  ...            40.0   United-States   <=50K\n",
              "1  39.0   State-gov   Bachelors  ...            40.0   United-States   <=50K\n",
              "2  39.0   State-gov   Bachelors  ...            40.0   United-States   <=50K\n",
              "3  39.0   State-gov   Bachelors  ...            40.0   United-States   <=50K\n",
              "4  39.0   State-gov   Bachelors  ...            40.0   United-States   <=50K\n",
              "\n",
              "[5 rows x 14 columns]"
            ]
          },
          "metadata": {
            "tags": []
          },
          "execution_count": 62
        }
      ]
    },
    {
      "cell_type": "code",
      "metadata": {
        "id": "wmrvts5EEG7p",
        "colab_type": "code",
        "outputId": "56fbe581-e027-4182-b667-fea764adfa94",
        "colab": {
          "base_uri": "https://localhost:8080/",
          "height": 34
        }
      },
      "source": [
        "# Number of rows an columns\n",
        "df1.shape"
      ],
      "execution_count": 63,
      "outputs": [
        {
          "output_type": "execute_result",
          "data": {
            "text/plain": [
              "(617867, 14)"
            ]
          },
          "metadata": {
            "tags": []
          },
          "execution_count": 63
        }
      ]
    },
    {
      "cell_type": "code",
      "metadata": {
        "id": "Tz8jaTa-tbbi",
        "colab_type": "code",
        "outputId": "8a2175ca-5331-4100-b0d5-c1d3d754cf9d",
        "colab": {
          "base_uri": "https://localhost:8080/",
          "height": 272
        }
      },
      "source": [
        "# Check data types of each feature\n",
        "df1.dtypes"
      ],
      "execution_count": 64,
      "outputs": [
        {
          "output_type": "execute_result",
          "data": {
            "text/plain": [
              "age                float64\n",
              "workclass         category\n",
              "education         category\n",
              "education_num      float64\n",
              "marital_status    category\n",
              "occupation        category\n",
              "relationship      category\n",
              "race              category\n",
              "sex               category\n",
              "capital_gain       float64\n",
              "capital_loss       float64\n",
              "hours_per_week     float64\n",
              "native_country    category\n",
              "income            category\n",
              "dtype: object"
            ]
          },
          "metadata": {
            "tags": []
          },
          "execution_count": 64
        }
      ]
    },
    {
      "cell_type": "code",
      "metadata": {
        "id": "xL9tRD0jzg1q",
        "colab_type": "code",
        "outputId": "9fc2c017-3d1c-4c7f-9bc0-bbc8e7d9afd7",
        "colab": {
          "base_uri": "https://localhost:8080/",
          "height": 272
        }
      },
      "source": [
        "# Check for missing values\n",
        "df1.isnull().sum()"
      ],
      "execution_count": 65,
      "outputs": [
        {
          "output_type": "execute_result",
          "data": {
            "text/plain": [
              "age               0\n",
              "workclass         0\n",
              "education         0\n",
              "education_num     0\n",
              "marital_status    0\n",
              "occupation        0\n",
              "relationship      0\n",
              "race              0\n",
              "sex               0\n",
              "capital_gain      0\n",
              "capital_loss      0\n",
              "hours_per_week    0\n",
              "native_country    0\n",
              "income            0\n",
              "dtype: int64"
            ]
          },
          "metadata": {
            "tags": []
          },
          "execution_count": 65
        }
      ]
    },
    {
      "cell_type": "code",
      "metadata": {
        "id": "b4K8ShgR1gk4",
        "colab_type": "code",
        "colab": {}
      },
      "source": [
        "# Check the frequency of categories in each categorical variable\n",
        "df1_melt = pd.melt(df1[[\"workclass\",\"education\",\"marital_status\",\"occupation\",\"relationship\",\"race\", \\\n",
        "                        \"sex\",\"native_country\",\"income\", \"hours_per_week\"]], id_vars = \"hours_per_week\").groupby([\"variable\", \"value\"], \\\n",
        "                         as_index = False)[\"hours_per_week\"].count()\n",
        "df1_melt.rename(columns={\"hours_per_week\":\"freq\"},inplace=True)"
      ],
      "execution_count": 0,
      "outputs": []
    },
    {
      "cell_type": "code",
      "metadata": {
        "id": "3Gc9XIN811_V",
        "colab_type": "code",
        "outputId": "84e0f2a2-6785-4c7b-e2a3-e1dd639dcfd0",
        "colab": {
          "base_uri": "https://localhost:8080/",
          "height": 204
        }
      },
      "source": [
        "df1_melt.head()"
      ],
      "execution_count": 67,
      "outputs": [
        {
          "output_type": "execute_result",
          "data": {
            "text/html": [
              "<div>\n",
              "<style scoped>\n",
              "    .dataframe tbody tr th:only-of-type {\n",
              "        vertical-align: middle;\n",
              "    }\n",
              "\n",
              "    .dataframe tbody tr th {\n",
              "        vertical-align: top;\n",
              "    }\n",
              "\n",
              "    .dataframe thead th {\n",
              "        text-align: right;\n",
              "    }\n",
              "</style>\n",
              "<table border=\"1\" class=\"dataframe\">\n",
              "  <thead>\n",
              "    <tr style=\"text-align: right;\">\n",
              "      <th></th>\n",
              "      <th>variable</th>\n",
              "      <th>value</th>\n",
              "      <th>freq</th>\n",
              "    </tr>\n",
              "  </thead>\n",
              "  <tbody>\n",
              "    <tr>\n",
              "      <th>0</th>\n",
              "      <td>education</td>\n",
              "      <td>10th</td>\n",
              "      <td>18356</td>\n",
              "    </tr>\n",
              "    <tr>\n",
              "      <th>1</th>\n",
              "      <td>education</td>\n",
              "      <td>11th</td>\n",
              "      <td>22903</td>\n",
              "    </tr>\n",
              "    <tr>\n",
              "      <th>2</th>\n",
              "      <td>education</td>\n",
              "      <td>12th</td>\n",
              "      <td>8620</td>\n",
              "    </tr>\n",
              "    <tr>\n",
              "      <th>3</th>\n",
              "      <td>education</td>\n",
              "      <td>1st-4th</td>\n",
              "      <td>4024</td>\n",
              "    </tr>\n",
              "    <tr>\n",
              "      <th>4</th>\n",
              "      <td>education</td>\n",
              "      <td>5th-6th</td>\n",
              "      <td>7741</td>\n",
              "    </tr>\n",
              "  </tbody>\n",
              "</table>\n",
              "</div>"
            ],
            "text/plain": [
              "    variable     value   freq\n",
              "0  education      10th  18356\n",
              "1  education      11th  22903\n",
              "2  education      12th   8620\n",
              "3  education   1st-4th   4024\n",
              "4  education   5th-6th   7741"
            ]
          },
          "metadata": {
            "tags": []
          },
          "execution_count": 67
        }
      ]
    },
    {
      "cell_type": "code",
      "metadata": {
        "id": "CXSgZiNN16Ow",
        "colab_type": "code",
        "colab": {}
      },
      "source": [
        "# Calculate the percent of observations that fall in each category\n",
        "df1_melt[\"percentage\"]=df1_melt[\"freq\"]/df1.shape[0]"
      ],
      "execution_count": 0,
      "outputs": []
    },
    {
      "cell_type": "code",
      "metadata": {
        "id": "etsQRf255ZdB",
        "colab_type": "code",
        "outputId": "c4e6c5d8-bfe5-4d56-9739-becfbc018778",
        "colab": {
          "base_uri": "https://localhost:8080/",
          "height": 328
        }
      },
      "source": [
        "# Find the minimum % for each variable\n",
        "df1_melt.groupby([\"variable\"],as_index=False)[\"percentage\"].min()"
      ],
      "execution_count": 69,
      "outputs": [
        {
          "output_type": "execute_result",
          "data": {
            "text/html": [
              "<div>\n",
              "<style scoped>\n",
              "    .dataframe tbody tr th:only-of-type {\n",
              "        vertical-align: middle;\n",
              "    }\n",
              "\n",
              "    .dataframe tbody tr th {\n",
              "        vertical-align: top;\n",
              "    }\n",
              "\n",
              "    .dataframe thead th {\n",
              "        text-align: right;\n",
              "    }\n",
              "</style>\n",
              "<table border=\"1\" class=\"dataframe\">\n",
              "  <thead>\n",
              "    <tr style=\"text-align: right;\">\n",
              "      <th></th>\n",
              "      <th>variable</th>\n",
              "      <th>percentage</th>\n",
              "    </tr>\n",
              "  </thead>\n",
              "  <tbody>\n",
              "    <tr>\n",
              "      <th>0</th>\n",
              "      <td>education</td>\n",
              "      <td>0.001947</td>\n",
              "    </tr>\n",
              "    <tr>\n",
              "      <th>1</th>\n",
              "      <td>income</td>\n",
              "      <td>0.238593</td>\n",
              "    </tr>\n",
              "    <tr>\n",
              "      <th>2</th>\n",
              "      <td>marital_status</td>\n",
              "      <td>0.000704</td>\n",
              "    </tr>\n",
              "    <tr>\n",
              "      <th>3</th>\n",
              "      <td>native_country</td>\n",
              "      <td>0.000329</td>\n",
              "    </tr>\n",
              "    <tr>\n",
              "      <th>4</th>\n",
              "      <td>occupation</td>\n",
              "      <td>0.000312</td>\n",
              "    </tr>\n",
              "    <tr>\n",
              "      <th>5</th>\n",
              "      <td>race</td>\n",
              "      <td>0.006084</td>\n",
              "    </tr>\n",
              "    <tr>\n",
              "      <th>6</th>\n",
              "      <td>relationship</td>\n",
              "      <td>0.032552</td>\n",
              "    </tr>\n",
              "    <tr>\n",
              "      <th>7</th>\n",
              "      <td>sex</td>\n",
              "      <td>0.323814</td>\n",
              "    </tr>\n",
              "    <tr>\n",
              "      <th>8</th>\n",
              "      <td>workclass</td>\n",
              "      <td>0.000257</td>\n",
              "    </tr>\n",
              "  </tbody>\n",
              "</table>\n",
              "</div>"
            ],
            "text/plain": [
              "         variable  percentage\n",
              "0       education    0.001947\n",
              "1          income    0.238593\n",
              "2  marital_status    0.000704\n",
              "3  native_country    0.000329\n",
              "4      occupation    0.000312\n",
              "5            race    0.006084\n",
              "6    relationship    0.032552\n",
              "7             sex    0.323814\n",
              "8       workclass    0.000257"
            ]
          },
          "metadata": {
            "tags": []
          },
          "execution_count": 69
        }
      ]
    },
    {
      "cell_type": "markdown",
      "metadata": {
        "id": "HzPr5p6-ZJAB",
        "colab_type": "text"
      },
      "source": [
        "## Preprocessing\n",
        "\n"
      ]
    },
    {
      "cell_type": "code",
      "metadata": {
        "id": "1VVhnzrA645A",
        "colab_type": "code",
        "colab": {}
      },
      "source": [
        "# Create list of numerical and categorical variables\n",
        "numerical = [\"age\", \"education_num\", \"capital_gain\", \"capital_loss\", \"hours_per_week\"]\n",
        "categorical = [\"workclass\", \"education\", \"marital_status\", \"occupation\", \"relationship\", \"race\", \"sex\", \"native_country\", \"income\"]"
      ],
      "execution_count": 0,
      "outputs": []
    },
    {
      "cell_type": "code",
      "metadata": {
        "id": "eikQtkrp7pEb",
        "colab_type": "code",
        "colab": {}
      },
      "source": [
        "# Convert numerical variables to floats (for normalizing later)\n",
        "for num in numerical:\n",
        "  df1[num] = df1[num].astype('float')\n",
        "\n",
        "# Convert categorical data to categories\n",
        "for cat in categorical:\n",
        "  df1[cat] = df1[cat].astype('category')"
      ],
      "execution_count": 0,
      "outputs": []
    },
    {
      "cell_type": "code",
      "metadata": {
        "id": "vN1PFfkI9TOL",
        "colab_type": "code",
        "colab": {}
      },
      "source": [
        "# Create lists of of each variable type (useful when have many variables)\n",
        "\n",
        "# Select all columns that have the data type 'category'\n",
        "categorical_attr = df1.select_dtypes('category').columns\n",
        "# Drop the 'income' column which is the response\n",
        "categorical_attr = categorical_attr.drop('income')\n",
        "# Assign income as the target attribute\n",
        "target_attr = 'income'\n",
        "# Select all columns that have the data type 'float'\n",
        "numerical_attr = df1.select_dtypes('float').columns"
      ],
      "execution_count": 0,
      "outputs": []
    },
    {
      "cell_type": "code",
      "metadata": {
        "id": "HK91sXGO8tyr",
        "colab_type": "code",
        "colab": {}
      },
      "source": [
        "# Split into training and test\n",
        "data_categorical_train, data_categorical_test, data_numerical_train, data_numerical_test, Y_train, Y_test = \\\n",
        "train_test_split(df1[categorical_attr], df1[numerical_attr], df1[target_attr], test_size=0.33, random_state=123, stratify = df1[target_attr]) "
      ],
      "execution_count": 0,
      "outputs": []
    },
    {
      "cell_type": "code",
      "metadata": {
        "id": "JbCZa2a2Ehup",
        "colab_type": "code",
        "colab": {}
      },
      "source": [
        "# One hot encode the categorical variables\n",
        "# handle_unknown = \"ignore\" ensures that if a category ends up in test that is not in train, it can still predict by dropping that variable\n",
        "onehotencoder = OneHotEncoder(handle_unknown='ignore')\n",
        "# Use training data to identify how to one-hot encode\n",
        "OneHotEncoder_fit = onehotencoder.fit(data_categorical_train)\n",
        "# Apply to train and test\n",
        "OneHotEncoder_train = OneHotEncoder_fit.transform(data_categorical_train).toarray()\n",
        "OneHotEncoder_test = OneHotEncoder_fit.transform(data_categorical_test).toarray()"
      ],
      "execution_count": 0,
      "outputs": []
    },
    {
      "cell_type": "code",
      "metadata": {
        "id": "58QgvFcfFMGm",
        "colab_type": "code",
        "outputId": "6367cc3c-ba75-4e67-be1b-b0dea2419eac",
        "colab": {
          "base_uri": "https://localhost:8080/",
          "height": 34
        }
      },
      "source": [
        "OneHotEncoder_train.shape"
      ],
      "execution_count": 79,
      "outputs": [
        {
          "output_type": "execute_result",
          "data": {
            "text/plain": [
              "(413970, 101)"
            ]
          },
          "metadata": {
            "tags": []
          },
          "execution_count": 79
        }
      ]
    },
    {
      "cell_type": "code",
      "metadata": {
        "id": "f7eSdtAOFQyD",
        "colab_type": "code",
        "outputId": "407a2e1c-7c0d-4d0f-82da-a75a594322da",
        "colab": {
          "base_uri": "https://localhost:8080/",
          "height": 34
        }
      },
      "source": [
        "OneHotEncoder_test.shape"
      ],
      "execution_count": 80,
      "outputs": [
        {
          "output_type": "execute_result",
          "data": {
            "text/plain": [
              "(203897, 101)"
            ]
          },
          "metadata": {
            "tags": []
          },
          "execution_count": 80
        }
      ]
    },
    {
      "cell_type": "code",
      "metadata": {
        "colab_type": "code",
        "id": "FEoHMzBYFr5S",
        "outputId": "c5dcf197-e897-4f75-db4b-89e5f32542be",
        "colab": {
          "base_uri": "https://localhost:8080/",
          "height": 119
        }
      },
      "source": [
        "# One hot encode the response variable\n",
        "OneHotEncoder_fit = onehotencoder.fit(Y_train.values.get_values().reshape(-1, 1))\n",
        "OneHotEncoder_target_train = OneHotEncoder_fit.transform(Y_train.values.get_values().reshape(-1, 1)).toarray()\n",
        "OneHotEncoder_target_test = OneHotEncoder_fit.transform(Y_test.values.get_values().reshape(-1, 1)).toarray()\n",
        "# Remove the second column since this is binary\n",
        "OneHotEncoder_target_train = OneHotEncoder_target_train[:, 0]\n",
        "OneHotEncoder_target_test = OneHotEncoder_target_test[:, 0]"
      ],
      "execution_count": 82,
      "outputs": [
        {
          "output_type": "stream",
          "text": [
            "/usr/local/lib/python3.6/dist-packages/ipykernel_launcher.py:1: FutureWarning: The 'get_values' method is deprecated and will be removed in a future version\n",
            "  \"\"\"Entry point for launching an IPython kernel.\n",
            "/usr/local/lib/python3.6/dist-packages/ipykernel_launcher.py:2: FutureWarning: The 'get_values' method is deprecated and will be removed in a future version\n",
            "  \n",
            "/usr/local/lib/python3.6/dist-packages/ipykernel_launcher.py:3: FutureWarning: The 'get_values' method is deprecated and will be removed in a future version\n",
            "  This is separate from the ipykernel package so we can avoid doing imports until\n"
          ],
          "name": "stderr"
        }
      ]
    },
    {
      "cell_type": "code",
      "metadata": {
        "id": "qmbjSix3G5y3",
        "colab_type": "code",
        "colab": {}
      },
      "source": [
        "# # Scale the continuous data\n",
        "# Scaler= MinMaxScaler()\n",
        "# scaled_attr = Scalar.fit(data_numerical_train)\n",
        "# scaled_attr_train= scaled_attr.transform(data_numerical_train)\n",
        "# scaled_attr_test= scaled_attr.transform(data_numerical_test)\n",
        "\n",
        "# Normalize the continous data\n",
        "Scaler = StandardScaler()\n",
        "scaled_attr = Scaler.fit(data_numerical_train)\n",
        "scaled_attr_train= scaled_attr.transform(data_numerical_train)\n",
        "scaled_attr_test= scaled_attr.transform(data_numerical_test)\n"
      ],
      "execution_count": 0,
      "outputs": []
    },
    {
      "cell_type": "code",
      "metadata": {
        "id": "MDjqSfdiHaSq",
        "colab_type": "code",
        "outputId": "b3da1d19-349b-46f6-99f3-80199d2e6d7b",
        "colab": {
          "base_uri": "https://localhost:8080/",
          "height": 34
        }
      },
      "source": [
        "# Create a training data set with all input variables\n",
        "X_train = np.hstack((scaled_attr_train, OneHotEncoder_train))\n",
        "X_train.shape"
      ],
      "execution_count": 84,
      "outputs": [
        {
          "output_type": "execute_result",
          "data": {
            "text/plain": [
              "(413970, 106)"
            ]
          },
          "metadata": {
            "tags": []
          },
          "execution_count": 84
        }
      ]
    },
    {
      "cell_type": "code",
      "metadata": {
        "colab_type": "code",
        "id": "vYK5Z3avHqw1",
        "outputId": "61619540-f5dd-474c-eb6f-02829fd40c45",
        "colab": {
          "base_uri": "https://localhost:8080/",
          "height": 34
        }
      },
      "source": [
        "# Create a test data set with all input variables\n",
        "X_test = np.hstack((scaled_attr_test, OneHotEncoder_test))\n",
        "X_test.shape"
      ],
      "execution_count": 85,
      "outputs": [
        {
          "output_type": "execute_result",
          "data": {
            "text/plain": [
              "(203897, 106)"
            ]
          },
          "metadata": {
            "tags": []
          },
          "execution_count": 85
        }
      ]
    },
    {
      "cell_type": "markdown",
      "metadata": {
        "id": "vR-PpPVUa12L",
        "colab_type": "text"
      },
      "source": [
        "# Build a perceptron"
      ]
    },
    {
      "cell_type": "code",
      "metadata": {
        "id": "ZPM5KoUaIRdC",
        "colab_type": "code",
        "colab": {}
      },
      "source": [
        "# Input layer\n",
        "\n",
        "# Shapes is equal to the number of input variables\n",
        "inputs = Input(shape=(X_train.shape[1],), name='inputs')\n",
        "# Output layer has one node with \"sigmoid\" activation\n",
        "# Receives the previous layer as input\n",
        "outputs = Dense(1, activation='sigmoid')(inputs)"
      ],
      "execution_count": 0,
      "outputs": []
    },
    {
      "cell_type": "code",
      "metadata": {
        "id": "9SjJTqReOcr9",
        "colab_type": "code",
        "colab": {}
      },
      "source": [
        "# Create model\n",
        "model01 = Model(inputs=inputs, outputs=outputs)"
      ],
      "execution_count": 0,
      "outputs": []
    },
    {
      "cell_type": "code",
      "metadata": {
        "id": "kjdXbnDKOj1-",
        "colab_type": "code",
        "outputId": "37744344-3a36-46e3-e689-69ab803af1e4",
        "colab": {
          "base_uri": "https://localhost:8080/",
          "height": 221
        }
      },
      "source": [
        "model01.summary()"
      ],
      "execution_count": 88,
      "outputs": [
        {
          "output_type": "stream",
          "text": [
            "Model: \"model_3\"\n",
            "_________________________________________________________________\n",
            "Layer (type)                 Output Shape              Param #   \n",
            "=================================================================\n",
            "inputs (InputLayer)          (None, 106)               0         \n",
            "_________________________________________________________________\n",
            "dense_4 (Dense)              (None, 1)                 107       \n",
            "=================================================================\n",
            "Total params: 107\n",
            "Trainable params: 107\n",
            "Non-trainable params: 0\n",
            "_________________________________________________________________\n"
          ],
          "name": "stdout"
        }
      ]
    },
    {
      "cell_type": "code",
      "metadata": {
        "id": "CzTO3j0-GayE",
        "colab_type": "code",
        "colab": {}
      },
      "source": [
        "# Specify the optimizer adam with a 0.01 learning rate, amsgrad = False so that it does not use a variant of the optimizer\n",
        "adam = optimizers.Adam(lr = 0.01, amsgrad = False)"
      ],
      "execution_count": 0,
      "outputs": []
    },
    {
      "cell_type": "code",
      "metadata": {
        "id": "zwd58MdVO_VY",
        "colab_type": "code",
        "colab": {}
      },
      "source": [
        "# Compile model with \"binary_crossentropy\" which is logistic loss, the specified adam optimizer and \"accuracy\" as the error metric\n",
        "model01.compile(loss = 'binary_crossentropy', optimizer = adam, metrics = [\"accuracy\"])"
      ],
      "execution_count": 0,
      "outputs": []
    },
    {
      "cell_type": "code",
      "metadata": {
        "id": "vqT-bxZDQGOE",
        "colab_type": "code",
        "outputId": "250d8fa6-a53b-411e-84e9-edcc97e96796",
        "colab": {
          "base_uri": "https://localhost:8080/",
          "height": 204
        }
      },
      "source": [
        "# Fit the model with 5 epochs using 20% of the data for validation\n",
        "model01_fit = model01.fit(X_train, \n",
        "          y=OneHotEncoder_target_train, \n",
        "          epochs=5,validation_split=0.20)"
      ],
      "execution_count": 91,
      "outputs": [
        {
          "output_type": "stream",
          "text": [
            "Train on 331176 samples, validate on 82794 samples\n",
            "Epoch 1/5\n",
            "331176/331176 [==============================] - 13s 40us/step - loss: 0.3137 - acc: 0.8547 - val_loss: 0.3108 - val_acc: 0.8545\n",
            "Epoch 2/5\n",
            "331176/331176 [==============================] - 13s 39us/step - loss: 0.3120 - acc: 0.8552 - val_loss: 0.3123 - val_acc: 0.8527\n",
            "Epoch 3/5\n",
            "331176/331176 [==============================] - 13s 40us/step - loss: 0.3119 - acc: 0.8555 - val_loss: 0.3111 - val_acc: 0.8554\n",
            "Epoch 4/5\n",
            "331176/331176 [==============================] - 14s 42us/step - loss: 0.3119 - acc: 0.8547 - val_loss: 0.3129 - val_acc: 0.8548\n",
            "Epoch 5/5\n",
            "331176/331176 [==============================] - 13s 40us/step - loss: 0.3118 - acc: 0.8559 - val_loss: 0.3131 - val_acc: 0.8549\n"
          ],
          "name": "stdout"
        }
      ]
    },
    {
      "cell_type": "code",
      "metadata": {
        "id": "1bmEf2bWQ16a",
        "colab_type": "code",
        "outputId": "97ca8fc4-8f11-442b-bb30-148984c5f301",
        "colab": {
          "base_uri": "https://localhost:8080/",
          "height": 51
        }
      },
      "source": [
        "# Evaluate loss and accuracy on training set\n",
        "model01.evaluate([X_train], y=OneHotEncoder_target_train, )"
      ],
      "execution_count": 92,
      "outputs": [
        {
          "output_type": "stream",
          "text": [
            "413970/413970 [==============================] - 7s 18us/step\n"
          ],
          "name": "stdout"
        },
        {
          "output_type": "execute_result",
          "data": {
            "text/plain": [
              "[0.313392620929604, 0.8556972727480812]"
            ]
          },
          "metadata": {
            "tags": []
          },
          "execution_count": 92
        }
      ]
    },
    {
      "cell_type": "markdown",
      "metadata": {
        "id": "FUE3RG0ZcESU",
        "colab_type": "text"
      },
      "source": [
        "## Multilayer perceptron"
      ]
    },
    {
      "cell_type": "code",
      "metadata": {
        "colab_type": "code",
        "id": "Q-Gh1URAUZX_",
        "colab": {}
      },
      "source": [
        "# Input layer\n",
        "inputs = Input(shape=(X_train.shape[1],), name='inputs')\n",
        "# One dense layer with 32 nodes and \"relu\" activation\n",
        "dense1 = Dense(32, activation = \"relu\")(inputs)\n",
        "# Output layer with \"sigmoid\" activation\n",
        "outputs = Dense(1, activation='sigmoid')(dense1)"
      ],
      "execution_count": 0,
      "outputs": []
    },
    {
      "cell_type": "code",
      "metadata": {
        "colab_type": "code",
        "id": "P_6BuFScUZYD",
        "colab": {}
      },
      "source": [
        "# Build the model\n",
        "model02 = Model(inputs=inputs, outputs=outputs)"
      ],
      "execution_count": 0,
      "outputs": []
    },
    {
      "cell_type": "code",
      "metadata": {
        "colab_type": "code",
        "id": "2CFmKn1zUZYF",
        "outputId": "99daa71a-6a91-419a-f168-666adec30007",
        "colab": {
          "base_uri": "https://localhost:8080/",
          "height": 255
        }
      },
      "source": [
        "model02.summary()"
      ],
      "execution_count": 95,
      "outputs": [
        {
          "output_type": "stream",
          "text": [
            "Model: \"model_4\"\n",
            "_________________________________________________________________\n",
            "Layer (type)                 Output Shape              Param #   \n",
            "=================================================================\n",
            "inputs (InputLayer)          (None, 106)               0         \n",
            "_________________________________________________________________\n",
            "dense_5 (Dense)              (None, 32)                3424      \n",
            "_________________________________________________________________\n",
            "dense_6 (Dense)              (None, 1)                 33        \n",
            "=================================================================\n",
            "Total params: 3,457\n",
            "Trainable params: 3,457\n",
            "Non-trainable params: 0\n",
            "_________________________________________________________________\n"
          ],
          "name": "stdout"
        }
      ]
    },
    {
      "cell_type": "code",
      "metadata": {
        "id": "u1mUH57OGWav",
        "colab_type": "code",
        "colab": {}
      },
      "source": [
        "# Specify adam optimizer with 0.1 learning rate\n",
        "adam = optimizers.Adam(lr = 0.1, amsgrad = False)"
      ],
      "execution_count": 0,
      "outputs": []
    },
    {
      "cell_type": "code",
      "metadata": {
        "colab_type": "code",
        "id": "t4RPHzvmUZYG",
        "colab": {}
      },
      "source": [
        "# Compile the model with \"binary_crossentropy\" loss, adam optimizer, and \"accuracy\" error metric\n",
        "model02.compile(loss = 'binary_crossentropy', optimizer = adam, metrics = [\"accuracy\"])"
      ],
      "execution_count": 0,
      "outputs": []
    },
    {
      "cell_type": "code",
      "metadata": {
        "colab_type": "code",
        "id": "Wey8fGoNUZYI",
        "outputId": "9a614ecb-8fd2-4fd3-adc1-7cb466f03336",
        "colab": {
          "base_uri": "https://localhost:8080/",
          "height": 204
        }
      },
      "source": [
        "# Fit the model with 5 epochs and 20% of the data for validation\n",
        "model02_fit = model02.fit(X_train, \n",
        "          y=OneHotEncoder_target_train, \n",
        "          epochs=5,validation_split=0.20)"
      ],
      "execution_count": 98,
      "outputs": [
        {
          "output_type": "stream",
          "text": [
            "Train on 331176 samples, validate on 82794 samples\n",
            "Epoch 1/5\n",
            "331176/331176 [==============================] - 15s 47us/step - loss: 0.3344 - acc: 0.8494 - val_loss: 0.3316 - val_acc: 0.8532\n",
            "Epoch 2/5\n",
            "331176/331176 [==============================] - 15s 46us/step - loss: 0.3357 - acc: 0.8481 - val_loss: 0.3183 - val_acc: 0.8511\n",
            "Epoch 3/5\n",
            "331176/331176 [==============================] - 15s 46us/step - loss: 0.3313 - acc: 0.8493 - val_loss: 0.3536 - val_acc: 0.8563\n",
            "Epoch 4/5\n",
            "331176/331176 [==============================] - 15s 45us/step - loss: 0.3332 - acc: 0.8493 - val_loss: 0.3372 - val_acc: 0.8331\n",
            "Epoch 5/5\n",
            "331176/331176 [==============================] - 15s 45us/step - loss: 0.3444 - acc: 0.8486 - val_loss: 0.3428 - val_acc: 0.8380\n"
          ],
          "name": "stdout"
        }
      ]
    },
    {
      "cell_type": "code",
      "metadata": {
        "id": "b5sLXqJdcrBA",
        "colab_type": "code",
        "outputId": "5a850658-b2f7-4528-a80f-90c8f969f82c",
        "colab": {
          "base_uri": "https://localhost:8080/",
          "height": 51
        }
      },
      "source": [
        "# Evaluate loss and accuracy on training set\n",
        "model02.evaluate(X_train, \n",
        "               y=OneHotEncoder_target_train, )"
      ],
      "execution_count": 99,
      "outputs": [
        {
          "output_type": "stream",
          "text": [
            "413970/413970 [==============================] - 8s 19us/step\n"
          ],
          "name": "stdout"
        },
        {
          "output_type": "execute_result",
          "data": {
            "text/plain": [
              "[0.34381661177988887, 0.8385583496391507]"
            ]
          },
          "metadata": {
            "tags": []
          },
          "execution_count": 99
        }
      ]
    },
    {
      "cell_type": "markdown",
      "metadata": {
        "id": "00vrojxH7gN6",
        "colab_type": "text"
      },
      "source": [
        "## Embedding Preprocessing"
      ]
    },
    {
      "cell_type": "code",
      "metadata": {
        "id": "WnCNWKxq7jPk",
        "colab_type": "code",
        "outputId": "68405136-92de-404a-eff8-e179d412ea75",
        "colab": {
          "base_uri": "https://localhost:8080/",
          "height": 34
        }
      },
      "source": [
        "## Calculate the number of unique values in native_country\n",
        "native_country_levels = len(df1.native_country.unique())\n",
        "native_country_levels"
      ],
      "execution_count": 100,
      "outputs": [
        {
          "output_type": "execute_result",
          "data": {
            "text/plain": [
              "41"
            ]
          },
          "metadata": {
            "tags": []
          },
          "execution_count": 100
        }
      ]
    },
    {
      "cell_type": "code",
      "metadata": {
        "id": "vTTFPfLF8KPn",
        "colab_type": "code",
        "outputId": "e2d73979-8d84-404e-e662-3877ba70ab8c",
        "colab": {
          "base_uri": "https://localhost:8080/",
          "height": 34
        }
      },
      "source": [
        "## Make sure it is categorial\n",
        "df1[\"native_country\"] = df1[\"native_country\"].astype(\"category\")\n",
        "## Check for missing values\n",
        "df1.native_country.isnull().sum()"
      ],
      "execution_count": 101,
      "outputs": [
        {
          "output_type": "execute_result",
          "data": {
            "text/plain": [
              "0"
            ]
          },
          "metadata": {
            "tags": []
          },
          "execution_count": 101
        }
      ]
    },
    {
      "cell_type": "code",
      "metadata": {
        "id": "dlQBYuEKDKwU",
        "colab_type": "code",
        "outputId": "c301301c-4788-4344-934a-39a05821d3de",
        "colab": {
          "base_uri": "https://localhost:8080/",
          "height": 68
        }
      },
      "source": [
        "categorical_attr"
      ],
      "execution_count": 102,
      "outputs": [
        {
          "output_type": "execute_result",
          "data": {
            "text/plain": [
              "Index(['workclass', 'education', 'marital_status', 'occupation',\n",
              "       'relationship', 'race', 'sex', 'native_country'],\n",
              "      dtype='object')"
            ]
          },
          "metadata": {
            "tags": []
          },
          "execution_count": 102
        }
      ]
    },
    {
      "cell_type": "code",
      "metadata": {
        "id": "yXlxPcSM8heV",
        "colab_type": "code",
        "colab": {}
      },
      "source": [
        "# Drop native_country from the list of attributes that was created earlier\n",
        "categorical_attr = categorical_attr.drop([\"native_country\"])"
      ],
      "execution_count": 0,
      "outputs": []
    },
    {
      "cell_type": "code",
      "metadata": {
        "id": "NTJc2RegDTe5",
        "colab_type": "code",
        "outputId": "890c8426-0a34-4465-bd73-e357a90dea90",
        "colab": {
          "base_uri": "https://localhost:8080/",
          "height": 68
        }
      },
      "source": [
        "categorical_attr"
      ],
      "execution_count": 104,
      "outputs": [
        {
          "output_type": "execute_result",
          "data": {
            "text/plain": [
              "Index(['workclass', 'education', 'marital_status', 'occupation',\n",
              "       'relationship', 'race', 'sex'],\n",
              "      dtype='object')"
            ]
          },
          "metadata": {
            "tags": []
          },
          "execution_count": 104
        }
      ]
    },
    {
      "cell_type": "code",
      "metadata": {
        "id": "d9y2SSpX9Lvn",
        "colab_type": "code",
        "colab": {}
      },
      "source": [
        "# Split into training and test\n",
        "data_categorical_train, data_categorical_test, data_numerical_train, data_numerical_test, data_country_train, data_country_test, Y_train, Y_test = \\\n",
        "train_test_split(df1[categorical_attr], df1[numerical_attr], df1[\"native_country\"], df1[target_attr], test_size=0.33, random_state=123, stratify = df1[target_attr]) \n"
      ],
      "execution_count": 0,
      "outputs": []
    },
    {
      "cell_type": "code",
      "metadata": {
        "id": "oPTT2QFS0BjW",
        "colab_type": "code",
        "colab": {}
      },
      "source": [
        "# One hot encode the categorical variables\n",
        "# handle_unknown = \"ignore\" ensures that if a category ends up in test that is not in train, it can still predict by dropping that variable\n",
        "onehotencoder = OneHotEncoder(handle_unknown='ignore')\n",
        "# Use training data to identify how to one-hot encode\n",
        "OneHotEncoder_fit = onehotencoder.fit(data_categorical_train)\n",
        "# Apply to train and test\n",
        "OneHotEncoder_train = OneHotEncoder_fit.transform(data_categorical_train).toarray()\n",
        "OneHotEncoder_test = OneHotEncoder_fit.transform(data_categorical_test).toarray()"
      ],
      "execution_count": 0,
      "outputs": []
    },
    {
      "cell_type": "code",
      "metadata": {
        "id": "LkbiUUOP0ITR",
        "colab_type": "code",
        "outputId": "73c3f972-fa35-4fb8-dffb-82dee1926027",
        "colab": {
          "base_uri": "https://localhost:8080/",
          "height": 119
        }
      },
      "source": [
        "# One hot encode the response variable\n",
        "OneHotEncoder = onehotencoder.fit(Y_train.values.get_values().reshape(-1, 1))\n",
        "OneHotEncoder_target_train = OneHotEncoder.transform(Y_train.values.get_values().reshape(-1, 1)).toarray()\n",
        "OneHotEncoder_target_test = OneHotEncoder.transform(Y_test.values.get_values().reshape(-1, 1)).toarray()\n",
        "# Remove the second column since this is binary\n",
        "OneHotEncoder_target_train = OneHotEncoder_target_train[:, 0]\n",
        "OneHotEncoder_target_test = OneHotEncoder_target_test[:, 0]"
      ],
      "execution_count": 107,
      "outputs": [
        {
          "output_type": "stream",
          "text": [
            "/usr/local/lib/python3.6/dist-packages/ipykernel_launcher.py:1: FutureWarning: The 'get_values' method is deprecated and will be removed in a future version\n",
            "  \"\"\"Entry point for launching an IPython kernel.\n",
            "/usr/local/lib/python3.6/dist-packages/ipykernel_launcher.py:2: FutureWarning: The 'get_values' method is deprecated and will be removed in a future version\n",
            "  \n",
            "/usr/local/lib/python3.6/dist-packages/ipykernel_launcher.py:3: FutureWarning: The 'get_values' method is deprecated and will be removed in a future version\n",
            "  This is separate from the ipykernel package so we can avoid doing imports until\n"
          ],
          "name": "stderr"
        }
      ]
    },
    {
      "cell_type": "code",
      "metadata": {
        "id": "rdS-Eop20UxH",
        "colab_type": "code",
        "colab": {}
      },
      "source": [
        "# # Scale the continuous data\n",
        "# Scaler= MinMaxScaler()\n",
        "# scaled_attr = Scalar.fit(data_numerical_train)\n",
        "# scaled_attr_train= scaled_attr.transform(data_numerical_train)\n",
        "# scaled_attr_test= scaled_attr.transform(data_numerical_test)\n",
        "\n",
        "# Normalize the continous data\n",
        "Scaler = StandardScaler()\n",
        "scaled_attr = Scaler.fit(data_numerical_train)\n",
        "scaled_attr_train= scaled_attr.transform(data_numerical_train)\n",
        "scaled_attr_test= scaled_attr.transform(data_numerical_test)\n",
        "\n"
      ],
      "execution_count": 0,
      "outputs": []
    },
    {
      "cell_type": "code",
      "metadata": {
        "id": "8uQnN3brDlWG",
        "colab_type": "code",
        "colab": {}
      },
      "source": [
        "# Create a training data set with all input variables EXCEPT the variable to embed\n",
        "X_train = np.hstack((scaled_attr_train, OneHotEncoder_train))\n",
        "\n",
        "# Create a test data set with all input variables EXCEP the variable to embed\n",
        "X_test = np.hstack((scaled_attr_test, OneHotEncoder_test))"
      ],
      "execution_count": 0,
      "outputs": []
    },
    {
      "cell_type": "code",
      "metadata": {
        "id": "RRTJVXb4_u96",
        "colab_type": "code",
        "colab": {}
      },
      "source": [
        "# Give each level of native country a number between 0 and native_country_levels-1\n",
        "native_country_levels_encoded = LabelEncoder().fit(df1[\"native_country\"])"
      ],
      "execution_count": 0,
      "outputs": []
    },
    {
      "cell_type": "code",
      "metadata": {
        "id": "6EPWR4X7_830",
        "colab_type": "code",
        "colab": {}
      },
      "source": [
        "# Assign each of these ## numbers to each row in the training and test data set based on which native_country is in the row\n",
        "native_country_levels_encoded_train=native_country_levels_encoded.transform(data_country_train)\n",
        "native_country_levels_encoded_test=native_country_levels_encoded.transform(data_country_test)"
      ],
      "execution_count": 0,
      "outputs": []
    },
    {
      "cell_type": "code",
      "metadata": {
        "id": "IDIxtMuux-Zo",
        "colab_type": "code",
        "outputId": "432708ae-96b4-43c9-dd81-806fa25ee193",
        "colab": {
          "base_uri": "https://localhost:8080/",
          "height": 68
        }
      },
      "source": [
        "np.unique(native_country_levels_encoded_train)"
      ],
      "execution_count": 112,
      "outputs": [
        {
          "output_type": "execute_result",
          "data": {
            "text/plain": [
              "array([ 0,  1,  2,  3,  4,  5,  6,  7,  8,  9, 10, 11, 12, 13, 14, 15, 16,\n",
              "       17, 18, 19, 20, 21, 22, 23, 24, 25, 26, 27, 28, 29, 30, 31, 32, 33,\n",
              "       34, 35, 36, 37, 38, 39, 40])"
            ]
          },
          "metadata": {
            "tags": []
          },
          "execution_count": 112
        }
      ]
    },
    {
      "cell_type": "markdown",
      "metadata": {
        "id": "4gOZg8zHAT1u",
        "colab_type": "text"
      },
      "source": [
        "## Build Multilayer Perceptron\n"
      ]
    },
    {
      "cell_type": "markdown",
      "metadata": {
        "id": "eiusHW4yuoVl",
        "colab_type": "text"
      },
      "source": [
        " ### Embedding layer in neural net"
      ]
    },
    {
      "cell_type": "code",
      "metadata": {
        "id": "JQOEdOkfAYVL",
        "colab_type": "code",
        "colab": {}
      },
      "source": [
        "# INPUT Layer\n",
        "# Input shape is 1 since clothing id is 1 dimensional vector\n",
        "# Need to give name\n",
        "country_input = Input(shape=(1, ), name=\"country\")\n",
        "# native_country_levels is number of indexes, output_dim is the dimension you choose to represent country in\n",
        "country_embed = Embedding(input_dim=native_country_levels, output_dim=10)(country_input)\n",
        "# Flatten layer is used to ensure final embeddings are a 1-D vector for each row \n",
        "country_embed_flat = Flatten()(country_embed)"
      ],
      "execution_count": 0,
      "outputs": []
    },
    {
      "cell_type": "markdown",
      "metadata": {
        "id": "omFyudgKuqYS",
        "colab_type": "text"
      },
      "source": [
        "### Create a dense layer for other variables\n"
      ]
    },
    {
      "cell_type": "code",
      "metadata": {
        "id": "Rl0Ypej0uzef",
        "colab_type": "code",
        "colab": {}
      },
      "source": [
        "# Get number of columns from X_train as shape\n",
        "num_cat_inputs = Input(shape=(X_train.shape[1], ),name='num_cat_inputs')\n",
        "# hidden layer with 8 nodes\n",
        "out_num_cat = Dense(8, activation='relu')(num_cat_inputs)"
      ],
      "execution_count": 0,
      "outputs": []
    },
    {
      "cell_type": "markdown",
      "metadata": {
        "id": "tt59Bx9wvFz4",
        "colab_type": "text"
      },
      "source": [
        "### Connect embedding layer"
      ]
    },
    {
      "cell_type": "code",
      "metadata": {
        "id": "DFL0Ej5kvKsB",
        "colab_type": "code",
        "colab": {}
      },
      "source": [
        "# concactonate all data\n",
        "concatenated = concatenate([country_embed_flat,out_num_cat],axis=-1)\n",
        "# Use relu in layer\n",
        "X = Dense(8, activation='relu')(concatenated)\n",
        "# Use sigmoid on output layer\n",
        "final_out = Dense(1, activation='sigmoid')(X)"
      ],
      "execution_count": 0,
      "outputs": []
    },
    {
      "cell_type": "code",
      "metadata": {
        "id": "hzko0_LjvlbD",
        "colab_type": "code",
        "colab": {}
      },
      "source": [
        "# Create model from the embedding input layer and numerical/categorical feature input layer\n",
        "model03 = Model(inputs=[country_input,num_cat_inputs], outputs=final_out)"
      ],
      "execution_count": 0,
      "outputs": []
    },
    {
      "cell_type": "code",
      "metadata": {
        "id": "hoz86RLhvvX9",
        "colab_type": "code",
        "outputId": "ab98ba74-c517-489c-c11f-d3afb7512c3f",
        "colab": {
          "base_uri": "https://localhost:8080/",
          "height": 442
        }
      },
      "source": [
        "model03.summary()"
      ],
      "execution_count": 117,
      "outputs": [
        {
          "output_type": "stream",
          "text": [
            "Model: \"model_5\"\n",
            "__________________________________________________________________________________________________\n",
            "Layer (type)                    Output Shape         Param #     Connected to                     \n",
            "==================================================================================================\n",
            "country (InputLayer)            (None, 1)            0                                            \n",
            "__________________________________________________________________________________________________\n",
            "embedding_1 (Embedding)         (None, 1, 10)        410         country[0][0]                    \n",
            "__________________________________________________________________________________________________\n",
            "num_cat_inputs (InputLayer)     (None, 65)           0                                            \n",
            "__________________________________________________________________________________________________\n",
            "flatten_1 (Flatten)             (None, 10)           0           embedding_1[0][0]                \n",
            "__________________________________________________________________________________________________\n",
            "dense_7 (Dense)                 (None, 8)            528         num_cat_inputs[0][0]             \n",
            "__________________________________________________________________________________________________\n",
            "concatenate_1 (Concatenate)     (None, 18)           0           flatten_1[0][0]                  \n",
            "                                                                 dense_7[0][0]                    \n",
            "__________________________________________________________________________________________________\n",
            "dense_8 (Dense)                 (None, 8)            152         concatenate_1[0][0]              \n",
            "__________________________________________________________________________________________________\n",
            "dense_9 (Dense)                 (None, 1)            9           dense_8[0][0]                    \n",
            "==================================================================================================\n",
            "Total params: 1,099\n",
            "Trainable params: 1,099\n",
            "Non-trainable params: 0\n",
            "__________________________________________________________________________________________________\n"
          ],
          "name": "stdout"
        }
      ]
    },
    {
      "cell_type": "code",
      "metadata": {
        "id": "po8zr5N6GM0l",
        "colab_type": "code",
        "colab": {}
      },
      "source": [
        "# Specify adam optimizer with 0.1 learning rate\n",
        "adam = optimizers.Adam(lr = 0.1, amsgrad = False)"
      ],
      "execution_count": 0,
      "outputs": []
    },
    {
      "cell_type": "code",
      "metadata": {
        "id": "o8M2AELVwQPa",
        "colab_type": "code",
        "colab": {}
      },
      "source": [
        "model03.compile(loss = 'binary_crossentropy', optimizer = adam, metrics = [\"accuracy\"])"
      ],
      "execution_count": 0,
      "outputs": []
    },
    {
      "cell_type": "code",
      "metadata": {
        "id": "KyA8lgzHwTfv",
        "colab_type": "code",
        "outputId": "31d15f8a-b6dc-4af4-b170-04863a0ece87",
        "colab": {
          "base_uri": "https://localhost:8080/",
          "height": 221
        }
      },
      "source": [
        "model03.fit([native_country_levels_encoded_train,X_train], \n",
        "          y=OneHotEncoder_target_train, \n",
        "          epochs=5,validation_split=0.20)"
      ],
      "execution_count": 120,
      "outputs": [
        {
          "output_type": "stream",
          "text": [
            "Train on 331176 samples, validate on 82794 samples\n",
            "Epoch 1/5\n",
            "331176/331176 [==============================] - 17s 51us/step - loss: 0.3476 - acc: 0.8441 - val_loss: 0.4529 - val_acc: 0.7840\n",
            "Epoch 2/5\n",
            "331176/331176 [==============================] - 17s 51us/step - loss: 0.5314 - acc: 0.7748 - val_loss: 0.7036 - val_acc: 0.7309\n",
            "Epoch 3/5\n",
            "331176/331176 [==============================] - 17s 50us/step - loss: 0.5690 - acc: 0.7684 - val_loss: 0.5034 - val_acc: 0.7694\n",
            "Epoch 4/5\n",
            "331176/331176 [==============================] - 17s 51us/step - loss: 0.5466 - acc: 0.7778 - val_loss: 0.7109 - val_acc: 0.7953\n",
            "Epoch 5/5\n",
            "331176/331176 [==============================] - 17s 51us/step - loss: 0.6551 - acc: 0.7865 - val_loss: 0.5060 - val_acc: 0.7875\n"
          ],
          "name": "stdout"
        },
        {
          "output_type": "execute_result",
          "data": {
            "text/plain": [
              "<keras.callbacks.History at 0x7ff6147f0ef0>"
            ]
          },
          "metadata": {
            "tags": []
          },
          "execution_count": 120
        }
      ]
    },
    {
      "cell_type": "code",
      "metadata": {
        "id": "pVOra0QNCkWh",
        "colab_type": "code",
        "colab": {
          "base_uri": "https://localhost:8080/",
          "height": 51
        },
        "outputId": "b7f743ef-12ce-4784-86d7-26a77b48026b"
      },
      "source": [
        "# Evalute final results\n",
        "model03.evaluate([native_country_levels_encoded_train,X_train], \n",
        "               y=OneHotEncoder_target_train, )"
      ],
      "execution_count": 122,
      "outputs": [
        {
          "output_type": "stream",
          "text": [
            "413970/413970 [==============================] - 9s 22us/step\n"
          ],
          "name": "stdout"
        },
        {
          "output_type": "execute_result",
          "data": {
            "text/plain": [
              "[0.506952140624245, 0.7879121675475091]"
            ]
          },
          "metadata": {
            "tags": []
          },
          "execution_count": 122
        }
      ]
    },
    {
      "cell_type": "markdown",
      "metadata": {
        "id": "ufi-EMJ7CrsP",
        "colab_type": "text"
      },
      "source": [
        "### Final test"
      ]
    },
    {
      "cell_type": "code",
      "metadata": {
        "id": "2dTrDURzCQLX",
        "colab_type": "code",
        "colab": {}
      },
      "source": [
        "# Evaluate loss and accuracy on training set\n",
        "# model02.evaluate(X_test, \n",
        "#                y=OneHotEncoder_target_test, )\n",
        "\n",
        "# ## OR \n",
        "\n",
        "# # Evalute final results\n",
        "# model03.evaluate([native_country_levels_encoded_test,X_test], \n",
        "#                y=OneHotEncoder_target_test, )"
      ],
      "execution_count": 0,
      "outputs": []
    }
  ]
}